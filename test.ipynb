{
 "cells": [
  {
   "cell_type": "heading",
   "metadata": {},
   "level": 1,
   "source": [
    "Data Exploration"
   ]
  },
  {
   "cell_type": "code",
   "execution_count": 2,
   "metadata": {
    "collapsed": true
   },
   "outputs": [
    {
     "name": "stdout",
     "output_type": "stream",
     "text": [
      "['PassengerId', 'Survived', 'Pclass', 'Name', 'Sex', 'Age', 'SibSp', 'Parch', 'Ticket', 'Fare', 'Cabin', 'Embarked']\n"
     ]
    }
   ],
   "source": [
    "import csv as csv\n",
    "csv_file_object = csv.reader(open('train.csv', 'rb'))\n",
    "header = csv_file_object.next()\n",
    "\n",
    "print header"
   ]
  },
  {
   "cell_type": "code",
   "execution_count": 3,
   "metadata": {},
   "outputs": [
    {
     "name": "stdout",
     "output_type": "stream",
     "text": [
      "[['1' '0' '3' ..., '7.25' '' 'S']\n ['2' '1' '1' ..., '71.2833' 'C85' 'C']\n ['3' '1' '3' ..., '7.925' '' 'S']\n ..., \n ['889' '0' '3' ..., '23.45' '' 'S']\n ['890' '1' '1' ..., '30' 'C148' 'C']\n ['891' '0' '3' ..., '7.75' '' 'Q']]\n"
     ]
    }
   ],
   "source": [
    "import numpy as np\n",
    "\n",
    "data = []\n",
    "for row in csv_file_object:\n",
    "    data.append(row)\n",
    "data = np.array(data)\n",
    "\n",
    "print data"
   ]
  },
  {
   "cell_type": "code",
   "execution_count": 12,
   "metadata": {},
   "outputs": [
    {
     "name": "stdout",
     "output_type": "stream",
     "text": [
      "891\n342.0\n0.383838383838\n"
     ]
    }
   ],
   "source": [
    "number_passengers = np.size(data[0::, 1].astype(np.float))\n",
    "number_survived = np.sum(data[0::, 1].astype(np.float))\n",
    "proportion_survivors = number_survived / number_passengers\n",
    "\n",
    "print number_passengers\n",
    "print number_survived\n",
    "print proportion_survivors"
   ]
  },
  {
   "cell_type": "code",
   "execution_count": 23,
   "metadata": {},
   "outputs": [
    {
     "name": "stdout",
     "output_type": "stream",
     "text": [
      "['male' 'female' 'female' 'female' 'male' 'male' 'male' 'male' 'female'\n 'female']\n"
     ]
    }
   ],
   "source": [
    "print data[0:10, 4]"
   ]
  },
  {
   "cell_type": "code",
   "execution_count": 27,
   "metadata": {},
   "outputs": [
    {
     "name": "stdout",
     "output_type": "stream",
     "text": [
      "[False  True  True  True False False False False  True  True]\n"
     ]
    }
   ],
   "source": [
    "women_only_stats = data[0::, 4] == \"female\"\n",
    "men_only_stats = data[0::, 4] != \"female\"\n",
    "\n",
    "print women_only_stats[0:10]"
   ]
  },
  {
   "cell_type": "code",
   "execution_count": 38,
   "metadata": {},
   "outputs": [
    {
     "name": "stdout",
     "output_type": "stream",
     "text": [
      "[ 1.  1.  1.  1.  1.  1.  1.  0.  1.  0.]\n"
     ]
    }
   ],
   "source": [
    "women_onboard = data[women_only_stats, 1].astype(np.float)\n",
    "men_onboard = data[men_only_stats,1].astype(np.float)\n",
    "\n",
    "print women_onboard[0:10]"
   ]
  },
  {
   "cell_type": "code",
   "execution_count": 41,
   "metadata": {},
   "outputs": [
    {
     "name": "stdout",
     "output_type": "stream",
     "text": [
      "Proportion of women who survived is 0.742038216561\nProportion of men who survived is 0.188908145581\n"
     ]
    }
   ],
   "source": [
    "proportion_women_survived = np.sum(women_onboard) / np.size(women_onboard)\n",
    "proportion_men_survived = np.sum(men_onboard) / np.size(men_onboard)\n",
    "\n",
    "print 'Proportion of women who survived is %s' % proportion_women_survived\n",
    "print 'Proportion of men who survived is %s' % proportion_men_survived"
   ]
  },
  {
   "cell_type": "heading",
   "metadata": {},
   "level": 1,
   "source": [
    "Test Data"
   ]
  },
  {
   "cell_type": "code",
   "execution_count": 46,
   "metadata": {},
   "outputs": [
    {
     "name": "stdout",
     "output_type": "stream",
     "text": [
      "['PassengerId', 'Pclass', 'Name', 'Sex', 'Age', 'SibSp', 'Parch', 'Ticket', 'Fare', 'Cabin', 'Embarked']\n"
     ]
    }
   ],
   "source": [
    "test_file = open('test.csv', 'rb')\n",
    "test_file_object = csv.reader(test_file)\n",
    "\n",
    "test_header = test_file_object.next()\n",
    "\n",
    "print test_header"
   ]
  },
  {
   "cell_type": "code",
   "execution_count": 48,
   "metadata": {},
   "outputs": [],
   "source": [
    "prediction_file = open(\"genderbasedmodel.csv\", \"wb\")\n",
    "prediction_file_object = csv.writer(prediction_file)"
   ]
  },
  {
   "cell_type": "code",
   "execution_count": null,
   "metadata": {},
   "outputs": [],
   "source": [
    "prediction_file_object.writerow([\"PassengerId\", \"Survived\"])\n",
    "\n",
    "for row in test_file_object:\n",
    "    if row[3] == 'female':                                       \n",
    "        prediction_file_object.writerow([row[0], '1'])\n",
    "    else:       \n",
    "        prediction_file_object.writerow([row[0], '0'])\n",
    "\n",
    "test_file.close()\n",
    "prediction_file.close()"
   ]
  },
  {
   "cell_type": "code",
   "execution_count": 54,
   "metadata": {},
   "outputs": [
    {
     "name": "stdout",
     "output_type": "stream",
     "text": [
      "['7.25' '39.0' '7.925' '39.0' '8.05' '8.4583' '39.0' '21.075' '11.1333'\n '30.0708']\n"
     ]
    }
   ],
   "source": [
    "# So we add a ceiling\n",
    "fare_ceiling = 40\n",
    "# then modify the data in the Fare column to = 39, if it is greater or equal to the ceiling\n",
    "data[data[0::, 9].astype(np.float) >= fare_ceiling, 9] = fare_ceiling - 1.0\n",
    "\n",
    "print data[0:10, 9]"
   ]
  },
  {
   "cell_type": "code",
   "execution_count": 55,
   "metadata": {},
   "outputs": [
    {
     "name": "stdout",
     "output_type": "stream",
     "text": [
      "3\n"
     ]
    }
   ],
   "source": [
    "fare_bracket_size = 10\n",
    "number_of_price_brackets = fare_ceiling / fare_bracket_size\n",
    "\n",
    "# I know there were 1st, 2nd and 3rd classes on board\n",
    "number_of_classes = 3\n",
    "\n",
    "# But it's better practice to calculate this from the data directly\n",
    "# Take the length of an array of unique values in column index 2\n",
    "number_of_classes = len(np.unique(data[0::, 2]))\n",
    "\n",
    "print number_of_classes"
   ]
  },
  {
   "cell_type": "code",
   "execution_count": 57,
   "metadata": {},
   "outputs": [
    {
     "name": "stdout",
     "output_type": "stream",
     "text": [
      "[[[ 0.  0.  0.  0.]\n  [ 0.  0.  0.  0.]\n  [ 0.  0.  0.  0.]]\n\n [[ 0.  0.  0.  0.]\n  [ 0.  0.  0.  0.]\n  [ 0.  0.  0.  0.]]]\n"
     ]
    }
   ],
   "source": [
    "survival_table = np.zeros((2, number_of_classes, number_of_price_brackets))\n",
    "\n",
    "print survival_table"
   ]
  },
  {
   "cell_type": "code",
   "execution_count": 61,
   "metadata": {},
   "outputs": [
    {
     "name": "stdout",
     "output_type": "stream",
     "text": [
      "[[[ 0.          0.          0.83333333  0.97727273]\n  [ 0.          0.91428571  0.9         1.        ]\n  [ 0.59375     0.58139535  0.33333333  0.125     ]]\n\n [[ 0.          0.          0.4         0.38372093]\n  [ 0.          0.15873016  0.16        0.21428571]\n  [ 0.11153846  0.23684211  0.125       0.24      ]]]\n"
     ]
    }
   ],
   "source": [
    "for i in xrange(number_of_classes): \n",
    "    for j in xrange(number_of_price_brackets):\n",
    "        women_only_stats = \\\n",
    "            data[\n",
    "                (data[0::, 4] == \"female\") &  # is a female\n",
    "                (data[0::, 2].astype(np.float) == i+1) &  # and was ith class\n",
    "                (data[0:, 9].astype(np.float) >= j*fare_bracket_size) &  # was greater than this bin      \n",
    "                (data[0:, 9].astype(np.float) < (j+1)*fare_bracket_size),  # and less than the next bin\n",
    "                1  # in the 2nd col\n",
    "            ]\n",
    "        \n",
    "        men_only_stats = \\\n",
    "            data[           \n",
    "                (data[0::,4] != \"female\") &\n",
    "                (data[0::,2].astype(np.float) == i+1) &\n",
    "                (data[0:,9].astype(np.float) >= j*fare_bracket_size) &              \n",
    "                (data[0:,9].astype(np.float) < (j+1)*fare_bracket_size),    \n",
    "                1\n",
    "            ]\n",
    "        \n",
    "        survival_table[0, i, j] = np.mean(women_only_stats.astype(np.float)) \n",
    "        survival_table[1, i, j] = np.mean(men_only_stats.astype(np.float))\n",
    "        survival_table[survival_table != survival_table] = 0.\n",
    "        \n",
    "print survival_table"
   ]
  },
  {
   "cell_type": "code",
   "execution_count": null,
   "metadata": {},
   "outputs": [],
   "source": [
    ""
   ]
  }
 ],
 "metadata": {
  "kernelspec": {
   "display_name": "Python [Root]",
   "language": "python",
   "name": "Python [Root]"
  },
  "language_info": {
   "codemirror_mode": {
    "name": "ipython",
    "version": 2.0
   },
   "file_extension": ".py",
   "mimetype": "text/x-python",
   "name": "python",
   "nbconvert_exporter": "python",
   "pygments_lexer": "ipython2",
   "version": "2.7.12"
  }
 },
 "nbformat": 4,
 "nbformat_minor": 0
}